{
 "cells": [
  {
   "cell_type": "markdown",
   "id": "58c5ed1f",
   "metadata": {},
   "source": [
    "# 计图 NLP 教程 - BERT分类器\n",
    "本教程最后更新于 2022.4.16\n",
    "\n",
    "#### 任务描述：\n",
    "IMDb 影评分类问题。程序将根据给出的英文影评，判断其为正面评价（Positive），或是负面评价（Negative）。  \n",
    "注意：正面评价将用数字 “1” 表示，负面评价将用数字 “0” 表示。\n",
    "\n",
    "*示例：*  \n",
    "> 影评内容：  \n",
    "> Magnificent and unforgettable, stunningly atmospheric, and brilliantly acted by all. I really cannot understand what sort of people are panning this masterpiece and giving the preponderance of votes as 8 (and nine ones!) This, along with Grapes of Wrath, is John Ford's greatest movie. I would say that Long Voyage Home is next in line, though quite a way back. Rating: 10. It deserves a 12.   \n",
    "> (该条英文评论为正面评价。)  \n",
    ">  \n",
    "> 正确标签：1  \n",
    "\n",
    "\n",
    "#### 解决流程：\n",
    "本程序将按照以下几个步骤，解决目标任务:\n",
    "1. 准备工作  \n",
    "2. 数据处理 \n",
    "3. 加载模型及优化器  \n",
    "4. 训练 \n",
    "5. 测试 \n"
   ]
  },
  {
   "cell_type": "markdown",
   "id": "33851fee",
   "metadata": {},
   "source": [
    "## 1. 准备工作"
   ]
  },
  {
   "cell_type": "markdown",
   "id": "d9fbee9e",
   "metadata": {},
   "source": [
    "导入计图，以及其他通用包，并开启 GPU 加速。"
   ]
  },
  {
   "cell_type": "code",
   "execution_count": null,
   "id": "56466434",
   "metadata": {},
   "outputs": [],
   "source": [
    "# 加载计图，以及其他通用包\n",
    "import jittor as jt\n",
    "import time\n",
    "\n",
    "# 开启 GPU 加速\n",
    "jt.flags.use_cuda = 1"
   ]
  },
  {
   "cell_type": "markdown",
   "id": "0755ad36",
   "metadata": {},
   "source": [
    "## 2. 数据处理"
   ]
  },
  {
   "cell_type": "markdown",
   "id": "ad4a1388",
   "metadata": {},
   "source": [
    "### 2.1 下载并读取数据"
   ]
  },
  {
   "cell_type": "markdown",
   "id": "12c59239",
   "metadata": {},
   "source": [
    "本项目所使用的数据集为 **IMDb 影评** 数据集。原数据集由 [Large Movie Review Dataset](https://ai.stanford.edu/~amaas/data/sentiment/)  网页提供。"
   ]
  },
  {
   "cell_type": "markdown",
   "id": "1af31836",
   "metadata": {},
   "source": [
    "这里，我们直接从 Jittor 服务器下载该数据集。"
   ]
  },
  {
   "cell_type": "code",
   "execution_count": 2,
   "id": "7ca5cf53",
   "metadata": {},
   "outputs": [],
   "source": [
    "from jittor_utils.misc import download_url_to_local\n",
    "\n",
    "download_url_to_local(\n",
    "    url=\"https://cg.cs.tsinghua.edu.cn/jittor/assets/build/checkpoints/aclImdb_train.csv\", \n",
    "    filename=\"aclImdb_train.csv\", \n",
    "    root_folder=\"./\", \n",
    "    md5=None)"
   ]
  },
  {
   "cell_type": "markdown",
   "id": "8f8e7ba7",
   "metadata": {},
   "source": [
    "随后，我们利用 Pandas 读取下载到本地的数据集。"
   ]
  },
  {
   "cell_type": "code",
   "execution_count": 3,
   "id": "569ca1dc",
   "metadata": {},
   "outputs": [],
   "source": [
    "import pandas as pd\n",
    "\n",
    "imdb_data = pd.read_csv(\"aclImdb_train.csv\", header=0, names=['Text', 'Label'])"
   ]
  },
  {
   "cell_type": "markdown",
   "id": "7fcd43e2",
   "metadata": {},
   "source": [
    "现在，让我们直观的查看一下，我们所拿到的数据集。"
   ]
  },
  {
   "cell_type": "code",
   "execution_count": 4,
   "id": "036a21a9",
   "metadata": {},
   "outputs": [
    {
     "data": {
      "text/html": [
       "<div>\n",
       "<style scoped>\n",
       "    .dataframe tbody tr th:only-of-type {\n",
       "        vertical-align: middle;\n",
       "    }\n",
       "\n",
       "    .dataframe tbody tr th {\n",
       "        vertical-align: top;\n",
       "    }\n",
       "\n",
       "    .dataframe thead th {\n",
       "        text-align: right;\n",
       "    }\n",
       "</style>\n",
       "<table border=\"1\" class=\"dataframe\">\n",
       "  <thead>\n",
       "    <tr style=\"text-align: right;\">\n",
       "      <th></th>\n",
       "      <th>Text</th>\n",
       "      <th>Label</th>\n",
       "    </tr>\n",
       "  </thead>\n",
       "  <tbody>\n",
       "    <tr>\n",
       "      <th>0</th>\n",
       "      <td>Magnificent and unforgettable, stunningly atmo...</td>\n",
       "      <td>1</td>\n",
       "    </tr>\n",
       "    <tr>\n",
       "      <th>1</th>\n",
       "      <td>I got hooked on this as apparently ABC has lic...</td>\n",
       "      <td>1</td>\n",
       "    </tr>\n",
       "    <tr>\n",
       "      <th>2</th>\n",
       "      <td>(SPOILERS IN FIRST PARAGRAPH) This movie's ant...</td>\n",
       "      <td>1</td>\n",
       "    </tr>\n",
       "    <tr>\n",
       "      <th>3</th>\n",
       "      <td>Masayuki Suo, who directed this fine film, is ...</td>\n",
       "      <td>1</td>\n",
       "    </tr>\n",
       "    <tr>\n",
       "      <th>4</th>\n",
       "      <td>It is a well known fact that when Gene Roddenb...</td>\n",
       "      <td>1</td>\n",
       "    </tr>\n",
       "    <tr>\n",
       "      <th>...</th>\n",
       "      <td>...</td>\n",
       "      <td>...</td>\n",
       "    </tr>\n",
       "    <tr>\n",
       "      <th>24995</th>\n",
       "      <td>As a big fan of David Mamet's films and plays,...</td>\n",
       "      <td>0</td>\n",
       "    </tr>\n",
       "    <tr>\n",
       "      <th>24996</th>\n",
       "      <td>There seems to be an overwhelming response to ...</td>\n",
       "      <td>0</td>\n",
       "    </tr>\n",
       "    <tr>\n",
       "      <th>24997</th>\n",
       "      <td>For the first couple of seasons, I thought The...</td>\n",
       "      <td>0</td>\n",
       "    </tr>\n",
       "    <tr>\n",
       "      <th>24998</th>\n",
       "      <td>WE FAW DOWN &lt;br /&gt;&lt;br /&gt;Aspect ratio: 1.33:1&lt;b...</td>\n",
       "      <td>0</td>\n",
       "    </tr>\n",
       "    <tr>\n",
       "      <th>24999</th>\n",
       "      <td>Although there's Flying Guillotines as part of...</td>\n",
       "      <td>0</td>\n",
       "    </tr>\n",
       "  </tbody>\n",
       "</table>\n",
       "<p>25000 rows × 2 columns</p>\n",
       "</div>"
      ],
      "text/plain": [
       "                                                    Text  Label\n",
       "0      Magnificent and unforgettable, stunningly atmo...      1\n",
       "1      I got hooked on this as apparently ABC has lic...      1\n",
       "2      (SPOILERS IN FIRST PARAGRAPH) This movie's ant...      1\n",
       "3      Masayuki Suo, who directed this fine film, is ...      1\n",
       "4      It is a well known fact that when Gene Roddenb...      1\n",
       "...                                                  ...    ...\n",
       "24995  As a big fan of David Mamet's films and plays,...      0\n",
       "24996  There seems to be an overwhelming response to ...      0\n",
       "24997  For the first couple of seasons, I thought The...      0\n",
       "24998  WE FAW DOWN <br /><br />Aspect ratio: 1.33:1<b...      0\n",
       "24999  Although there's Flying Guillotines as part of...      0\n",
       "\n",
       "[25000 rows x 2 columns]"
      ]
     },
     "execution_count": 4,
     "metadata": {},
     "output_type": "execute_result"
    }
   ],
   "source": [
    "# 展示文本 Text 及其标签 Label\n",
    "imdb_data"
   ]
  },
  {
   "cell_type": "code",
   "execution_count": 5,
   "id": "062c42be",
   "metadata": {},
   "outputs": [
    {
     "data": {
      "text/plain": [
       "0    12500\n",
       "1    12500\n",
       "Name: Label, dtype: int64"
      ]
     },
     "execution_count": 5,
     "metadata": {},
     "output_type": "execute_result"
    }
   ],
   "source": [
    "# 查看数据集上标签为 0 和 1 的数据个数\n",
    "imdb_data[\"Label\"].value_counts()"
   ]
  },
  {
   "cell_type": "code",
   "execution_count": 6,
   "id": "b9fd5b7f",
   "metadata": {},
   "outputs": [
    {
     "name": "stdout",
     "output_type": "stream",
     "text": [
      "文本：\n",
      "Magnificent and unforgettable, stunningly atmospheric, and brilliantly acted by all.<br /><br />I really cannot understand what sort of people are panning this masterpiece and giving the preponderance of votes as 8 (and nine ones!)<br /><br />This, along with Grapes of Wrath, is John Ford's greatest movie. I would say that Long Voyage Home is next in line, though quite a way back.<br /><br />Rating: 10. It deserves a 12.\n",
      "\n",
      "标签：1\n"
     ]
    }
   ],
   "source": [
    "# 浏览第一个数据文本\n",
    "print(u\"文本：\\n%s\\n\" % imdb_data[\"Text\"][0])\n",
    "print(u\"标签：%s\" % imdb_data[\"Label\"][0])"
   ]
  },
  {
   "cell_type": "markdown",
   "id": "4f750823",
   "metadata": {},
   "source": [
    "最后，我们将 **数据集** 切分成 **训练集** 和 **测试集**。"
   ]
  },
  {
   "cell_type": "code",
   "execution_count": 7,
   "id": "de5616dc",
   "metadata": {},
   "outputs": [
    {
     "data": {
      "text/plain": [
       "1    1258\n",
       "0    1242\n",
       "Name: Label, dtype: int64"
      ]
     },
     "execution_count": 7,
     "metadata": {},
     "output_type": "execute_result"
    }
   ],
   "source": [
    "# 为节省时间，只抽取部分数据做演示\n",
    "imdb_data = imdb_data.sample(frac=0.2) \n",
    "\n",
    "# 按比例切分“训练集”和“测试集”。利用 frac 设置切分的比例\n",
    "train_data = imdb_data.sample(frac=0.5) \n",
    "test_data = imdb_data.drop(train_data.index)\n",
    "train_data[\"Label\"].value_counts()"
   ]
  },
  {
   "cell_type": "markdown",
   "id": "ae44ea8d",
   "metadata": {},
   "source": [
    "### 2.2 分词（Tokenization）"
   ]
  },
  {
   "cell_type": "code",
   "execution_count": 8,
   "id": "d55a7aa6",
   "metadata": {},
   "outputs": [],
   "source": [
    "from tokenization import BertTokenizer\n",
    "\n",
    "vocab_file = \"./tokenization/vocab.txt\"\n",
    "tokenizer = BertTokenizer(do_lower_case=True, model_max_length=512, vocab_file=vocab_file)\n",
    "\n",
    "# 对文本进行分词\n",
    "train_encodings = tokenizer(list(train_data[\"Text\"]), padding=True)\n",
    "test_encodings = tokenizer(list(test_data[\"Text\"]), padding=True)"
   ]
  },
  {
   "cell_type": "markdown",
   "id": "f9581263",
   "metadata": {},
   "source": [
    "### 2.3 将数据存入 Dataset 对象中\n",
    "定义一个 Dataset 类，并将完成 Tokenization 后的数据文本（encodings）和数据标签（labels）封装为数据对象，以便模型使用。"
   ]
  },
  {
   "cell_type": "code",
   "execution_count": 9,
   "id": "c0bb0373",
   "metadata": {},
   "outputs": [],
   "source": [
    "class IMDbDataset(jt.dataset.Dataset):\n",
    "    def __init__(self, encodings, labels):\n",
    "        super().__init__()\n",
    "        self.encodings = encodings\n",
    "        self.labels = labels\n",
    "\n",
    "    def __getitem__(self, idx):\n",
    "        item = {key: jt.array(val[idx]) for key, val in self.encodings.items()}\n",
    "        item['labels'] = jt.array(self.labels[idx])\n",
    "        return item\n",
    "\n",
    "    def __len__(self):\n",
    "        return len(self.labels)\n",
    "    \n",
    "train_dataset = IMDbDataset(train_encodings, list(train_data[\"Label\"])).set_attrs(batch_size=4, shuffle=True)\n",
    "test_dataset = IMDbDataset(test_encodings, list(test_data[\"Label\"])).set_attrs(batch_size=1, shuffle=False)"
   ]
  },
  {
   "cell_type": "markdown",
   "id": "855902fe",
   "metadata": {},
   "source": [
    "## 3. 加载模型及优化器\n",
    "加载 BERT 模型和 AdamW 优化器。"
   ]
  },
  {
   "cell_type": "code",
   "execution_count": 10,
   "id": "9517be6b",
   "metadata": {},
   "outputs": [],
   "source": [
    "from model import BertClassification, BertConfig\n",
    "from jittor.optim import AdamW\n",
    "\n",
    "# 加载 BERT 模型\n",
    "configuration = BertConfig()\n",
    "model = BertClassification(configuration)\n",
    "model.load_state_dict(jt.load(\"jittorhub://pretrained_bert.bin\")) # 加载预训练的参数\n",
    "\n",
    "# 加载 AdamW 优化器\n",
    "optim = AdamW(model.parameters(), lr=1e-5)"
   ]
  },
  {
   "cell_type": "markdown",
   "id": "d6db8ee7",
   "metadata": {},
   "source": [
    "## 4. 训练"
   ]
  },
  {
   "cell_type": "markdown",
   "id": "27387668",
   "metadata": {},
   "source": [
    "首先，准备一个实用方法。目标是将模型的输出转化为预测值“1” 和 “0”，与原本的数据标签所对应。"
   ]
  },
  {
   "cell_type": "code",
   "execution_count": 11,
   "id": "127bec50",
   "metadata": {},
   "outputs": [],
   "source": [
    "# 预测\n",
    "def predict(outputs):\n",
    "    probabilities = jt.nn.softmax(outputs[\"logits\"], dim=1)\n",
    "    predictions = jt.argmax(probabilities, dim=1)[0]\n",
    "    return predictions"
   ]
  },
  {
   "cell_type": "markdown",
   "id": "54b4f0ac",
   "metadata": {},
   "source": [
    "训练模型"
   ]
  },
  {
   "cell_type": "code",
   "execution_count": 12,
   "id": "43001330",
   "metadata": {
    "scrolled": true
   },
   "outputs": [
    {
     "name": "stdout",
     "output_type": "stream",
     "text": [
      "Epoch 1/3\n"
     ]
    },
    {
     "name": "stderr",
     "output_type": "stream",
     "text": [
      "100%|██████████| 625/625 [00:46<00:00, 13.45it/s, Loss=0.129, Accuracy=0.775]\n"
     ]
    },
    {
     "name": "stdout",
     "output_type": "stream",
     "text": [
      "Epoch 2/3\n"
     ]
    },
    {
     "name": "stderr",
     "output_type": "stream",
     "text": [
      "100%|██████████| 625/625 [00:48<00:00, 13.01it/s, Loss=0.144, Accuracy=0.905]\n"
     ]
    },
    {
     "name": "stdout",
     "output_type": "stream",
     "text": [
      "Epoch 3/3\n"
     ]
    },
    {
     "name": "stderr",
     "output_type": "stream",
     "text": [
      "100%|██████████| 625/625 [00:49<00:00, 12.55it/s, Loss=0.166, Accuracy=0.959]\n"
     ]
    }
   ],
   "source": [
    "# 训练代码\n",
    "from tqdm import tqdm\n",
    "\n",
    "# 设置训练周期为 3\n",
    "epoch = 3\n",
    "\n",
    "# 开启训练模式\n",
    "model.train()\n",
    "\n",
    "train_loss = list()\n",
    "train_accuracies = list()\n",
    "for epoch_i in range(epoch):\n",
    "    print('Epoch %s/%s' % (epoch_i + 1, epoch))\n",
    "    time.sleep(0.3)\n",
    "\n",
    "    correct = 0\n",
    "    count = 0\n",
    "    epoch_loss = list()\n",
    "    \n",
    "    pbar = tqdm(train_dataset, total=len(train_dataset)//train_dataset.batch_size)\n",
    "    for batch in pbar:\n",
    "        \n",
    "        optim.zero_grad()\n",
    "        input_ids = batch['input_ids']\n",
    "        attention_mask = batch['attention_mask']\n",
    "        labels = batch['labels']\n",
    "        outputs = model(input_ids, attention_mask=attention_mask, labels=labels)\n",
    "        loss = outputs['loss']\n",
    "        optim.step(loss)\n",
    "        \n",
    "        # 基于模型的输出进行预测\n",
    "        predictions = predict(outputs)\n",
    "\n",
    "        # 计算准确率 accuracy\n",
    "        correct += predictions.equal(labels.reshape(-1)).sum().item()\n",
    "        count += len(labels)\n",
    "        accuracy = correct * 1.0 / count\n",
    "\n",
    "        # 显示进度条指标\n",
    "        pbar.set_postfix({\n",
    "            'Loss': '{:.3f}'.format(loss.item()),\n",
    "            'Accuracy': '{:.3f}'.format(accuracy)\n",
    "        })\n",
    "        \n",
    "        # 记录每个批次的损失值 loss\n",
    "        epoch_loss.append(loss.item())\n",
    "        \n",
    "    pbar.close()\n",
    "    \n",
    "    # 记录每个 epoch 的 loss 和 accuracy\n",
    "    train_loss += epoch_loss\n",
    "    train_accuracies.append(accuracy)"
   ]
  },
  {
   "cell_type": "markdown",
   "id": "e22f172c",
   "metadata": {},
   "source": [
    "可视化训练损失 loss 和 准确率 accuracy"
   ]
  },
  {
   "cell_type": "code",
   "execution_count": 13,
   "id": "a34acb60",
   "metadata": {},
   "outputs": [
    {
     "data": {
      "image/png": "[encoded data removed]",
      "text/plain": [
       "<Figure size 432x288 with 1 Axes>"
      ]
     },
     "metadata": {
      "needs_background": "light"
     },
     "output_type": "display_data"
    },
    {
     "data": {
      "image/png": "[encoded data removed]",
      "text/plain": [
       "<Figure size 432x288 with 1 Axes>"
      ]
     },
     "metadata": {
      "needs_background": "light"
     },
     "output_type": "display_data"
    }
   ],
   "source": [
    "import matplotlib.pyplot as plt\n",
    "import numpy as np\n",
    "\n",
    "# 每个迭代 vs. 损失\n",
    "plt.plot(train_loss, label=\"Training Loss\")\n",
    "plt.xlabel(\"Iteration\")\n",
    "plt.ylabel(\"Loss\")\n",
    "plt.title(\"Iteration vs Training Loss\")  \n",
    "plt.legend()\n",
    "plt.show()\n",
    "\n",
    "# 每个纪元 vs. 准确率\n",
    "acc_X = np.arange(len(train_accuracies))+1      # 重置 X 轴坐标\n",
    "plt.plot(acc_X, train_accuracies,\"-\", label=\"Training Accuracy\")\n",
    "plt.xticks(acc_X)\n",
    "plt.xlabel(\"Epoch\")\n",
    "plt.ylabel(\"Accuracy\")\n",
    "plt.title(\"Epoch vs Training Accuracy\")  \n",
    "plt.legend()\n",
    "plt.show()"
   ]
  },
  {
   "cell_type": "markdown",
   "id": "35b5fc37",
   "metadata": {},
   "source": [
    "## 5. 测试"
   ]
  },
  {
   "cell_type": "code",
   "execution_count": 14,
   "id": "54b19868",
   "metadata": {},
   "outputs": [
    {
     "name": "stderr",
     "output_type": "stream",
     "text": [
      "100%|██████████| 2500/2500 [00:37<00:00, 67.22it/s, loss=0.025, accuracy=0.830]\n"
     ]
    },
    {
     "name": "stdout",
     "output_type": "stream",
     "text": [
      "测试集上准确率: 82.96%\n"
     ]
    }
   ],
   "source": [
    "# 测试代码\n",
    "\n",
    "# 开启测试模式\n",
    "model.eval()\n",
    "\n",
    "with jt.no_grad():  # 关闭梯度\n",
    "    \n",
    "    correct = 0\n",
    "    count = 0\n",
    "    record = {\"labels\":list(), \"predictions\":list()}\n",
    "    \n",
    "    pbar = tqdm(test_dataset, total=len(test_dataset)//test_dataset.batch_size)\n",
    "    for batch in pbar:\n",
    "\n",
    "        input_ids = batch['input_ids']\n",
    "        attention_mask = batch['attention_mask']\n",
    "        labels = batch['labels']\n",
    "        outputs = model(input_ids, attention_mask=attention_mask, labels=labels)\n",
    "        loss = outputs['loss']\n",
    "        \n",
    "        # 基于模型的输出进行预测\n",
    "        predictions = predict(outputs)\n",
    "\n",
    "        # 计算准确率 accuracy\n",
    "        correct += predictions.equal(labels.reshape(-1)).sum().item()\n",
    "        count += len(labels)\n",
    "        accuracy = correct * 1.0 / count\n",
    "\n",
    "        # 显示进度条指标\n",
    "        pbar.set_postfix({\n",
    "            'loss': '{:.3f}'.format(loss.item()),\n",
    "            'accuracy': '{:.3f}'.format(accuracy)\n",
    "        })\n",
    "    \n",
    "        # 记录结果\n",
    "        record[\"labels\"] += list(labels.reshape(-1).numpy())\n",
    "        record[\"predictions\"] += list(predictions.numpy())\n",
    "        \n",
    "    pbar.close()\n",
    "    \n",
    "time.sleep(0.3)\n",
    "print(u\"测试集上准确率: %s%%\" % round(accuracy*100,4))"
   ]
  },
  {
   "cell_type": "markdown",
   "id": "9dc65ea1",
   "metadata": {},
   "source": [
    "查看结果"
   ]
  },
  {
   "cell_type": "code",
   "execution_count": 15,
   "id": "7b41e16b",
   "metadata": {},
   "outputs": [
    {
     "data": {
      "text/html": [
       "<div>\n",
       "<style scoped>\n",
       "    .dataframe tbody tr th:only-of-type {\n",
       "        vertical-align: middle;\n",
       "    }\n",
       "\n",
       "    .dataframe tbody tr th {\n",
       "        vertical-align: top;\n",
       "    }\n",
       "\n",
       "    .dataframe thead th {\n",
       "        text-align: right;\n",
       "    }\n",
       "</style>\n",
       "<table border=\"1\" class=\"dataframe\">\n",
       "  <thead>\n",
       "    <tr style=\"text-align: right;\">\n",
       "      <th></th>\n",
       "      <th>index</th>\n",
       "      <th>Text</th>\n",
       "      <th>Label</th>\n",
       "      <th>Model Prediction</th>\n",
       "    </tr>\n",
       "  </thead>\n",
       "  <tbody>\n",
       "    <tr>\n",
       "      <th>10</th>\n",
       "      <td>5573</td>\n",
       "      <td>the photography was beautiful but i had diffic...</td>\n",
       "      <td>1</td>\n",
       "      <td>0</td>\n",
       "    </tr>\n",
       "    <tr>\n",
       "      <th>16</th>\n",
       "      <td>20449</td>\n",
       "      <td>San Francisco is a big city with great acting ...</td>\n",
       "      <td>0</td>\n",
       "      <td>1</td>\n",
       "    </tr>\n",
       "    <tr>\n",
       "      <th>17</th>\n",
       "      <td>20133</td>\n",
       "      <td>Okay, I've watched this movie twice now, I hav...</td>\n",
       "      <td>0</td>\n",
       "      <td>1</td>\n",
       "    </tr>\n",
       "    <tr>\n",
       "      <th>19</th>\n",
       "      <td>17128</td>\n",
       "      <td>This esteemed production has it's fans. But to...</td>\n",
       "      <td>0</td>\n",
       "      <td>1</td>\n",
       "    </tr>\n",
       "    <tr>\n",
       "      <th>24</th>\n",
       "      <td>14961</td>\n",
       "      <td>Now, I've seen a lot of bad movies. I like bad...</td>\n",
       "      <td>0</td>\n",
       "      <td>1</td>\n",
       "    </tr>\n",
       "    <tr>\n",
       "      <th>...</th>\n",
       "      <td>...</td>\n",
       "      <td>...</td>\n",
       "      <td>...</td>\n",
       "      <td>...</td>\n",
       "    </tr>\n",
       "    <tr>\n",
       "      <th>2468</th>\n",
       "      <td>19365</td>\n",
       "      <td>You gotta love the cheesy low budget movies. T...</td>\n",
       "      <td>0</td>\n",
       "      <td>1</td>\n",
       "    </tr>\n",
       "    <tr>\n",
       "      <th>2485</th>\n",
       "      <td>1038</td>\n",
       "      <td>maybe i need to have my head examined,but i th...</td>\n",
       "      <td>1</td>\n",
       "      <td>0</td>\n",
       "    </tr>\n",
       "    <tr>\n",
       "      <th>2486</th>\n",
       "      <td>15821</td>\n",
       "      <td>It wasn't the most pointless animation film ex...</td>\n",
       "      <td>0</td>\n",
       "      <td>1</td>\n",
       "    </tr>\n",
       "    <tr>\n",
       "      <th>2487</th>\n",
       "      <td>14353</td>\n",
       "      <td>When they killed off John Amos's character the...</td>\n",
       "      <td>0</td>\n",
       "      <td>1</td>\n",
       "    </tr>\n",
       "    <tr>\n",
       "      <th>2495</th>\n",
       "      <td>20713</td>\n",
       "      <td>I'm sure that Operations Dames was a favorite ...</td>\n",
       "      <td>0</td>\n",
       "      <td>1</td>\n",
       "    </tr>\n",
       "  </tbody>\n",
       "</table>\n",
       "<p>426 rows × 4 columns</p>\n",
       "</div>"
      ],
      "text/plain": [
       "      index                                               Text  Label  \\\n",
       "10     5573  the photography was beautiful but i had diffic...      1   \n",
       "16    20449  San Francisco is a big city with great acting ...      0   \n",
       "17    20133  Okay, I've watched this movie twice now, I hav...      0   \n",
       "19    17128  This esteemed production has it's fans. But to...      0   \n",
       "24    14961  Now, I've seen a lot of bad movies. I like bad...      0   \n",
       "...     ...                                                ...    ...   \n",
       "2468  19365  You gotta love the cheesy low budget movies. T...      0   \n",
       "2485   1038  maybe i need to have my head examined,but i th...      1   \n",
       "2486  15821  It wasn't the most pointless animation film ex...      0   \n",
       "2487  14353  When they killed off John Amos's character the...      0   \n",
       "2495  20713  I'm sure that Operations Dames was a favorite ...      0   \n",
       "\n",
       "      Model Prediction  \n",
       "10                   0  \n",
       "16                   1  \n",
       "17                   1  \n",
       "19                   1  \n",
       "24                   1  \n",
       "...                ...  \n",
       "2468                 1  \n",
       "2485                 0  \n",
       "2486                 1  \n",
       "2487                 1  \n",
       "2495                 1  \n",
       "\n",
       "[426 rows x 4 columns]"
      ]
     },
     "execution_count": 15,
     "metadata": {},
     "output_type": "execute_result"
    }
   ],
   "source": [
    "# 将测试结果转化为 pandas DataFrame 对象\n",
    "from pandas.core.frame import DataFrame\n",
    "df_record = DataFrame(record)\n",
    "df_record.columns = [\"Ground Truth\",\"Model Prediction\"]\n",
    "\n",
    "# 拼接测试文本和测试结果\n",
    "df = pd.concat([test_data.reset_index(), df_record[\"Model Prediction\"]], axis=1)\n",
    "\n",
    "# 显示测试结果\n",
    "# pd.set_option('display.max_rows', None)    # 查看所有行\n",
    "# df\n",
    "\n",
    "# 只显示错误的预测 \n",
    "df[df[\"Label\"]!=df[\"Model Prediction\"]]"
   ]
  },
  {
   "cell_type": "markdown",
   "id": "f185b083",
   "metadata": {},
   "source": [
    "显示测试结果的混淆矩阵"
   ]
  },
  {
   "cell_type": "code",
   "execution_count": 16,
   "id": "c52fbe1c",
   "metadata": {},
   "outputs": [
    {
     "data": {
      "image/png": "[encoded data removed]",
      "text/plain": [
       "<Figure size 432x288 with 2 Axes>"
      ]
     },
     "metadata": {
      "needs_background": "light"
     },
     "output_type": "display_data"
    }
   ],
   "source": [
    "# 显示测试结果的混淆矩阵\n",
    "import seaborn as sns\n",
    "crosstab = pd.crosstab(df_record[\"Ground Truth\"],df_record[\"Model Prediction\"])\n",
    "sns.heatmap(crosstab, cmap='Oranges', annot=True, fmt='g', linewidths=5)\n",
    "accuracy = df_record[\"Ground Truth\"].eq(df_record[\"Model Prediction\"]).sum() / len(df_record[\"Ground Truth\"])\n",
    "plt.title(\"Confusion Matrix (Accuracy: %s%%)\" % round(accuracy*100,2))\n",
    "plt.show()"
   ]
  },
  {
   "cell_type": "code",
   "execution_count": 17,
   "id": "773a79af",
   "metadata": {},
   "outputs": [
    {
     "name": "stdout",
     "output_type": "stream",
     "text": [
      "现在开始手动测试：\n",
      "\n",
      "请输入想要测试的影评（英文）：\n",
      "I don't like it, beacuse it is a boring movie. It's kind of waste my time\n",
      "\n",
      "模型认为这是一条负面评价。\n",
      "\n",
      "再试一次？ y/n\n",
      "n\n"
     ]
    }
   ],
   "source": [
    "\"\"\"\n",
    "- 手动测试 -\n",
    "\n",
    "以下代码将用于手动测试。\n",
    "可自定义输入评论，模型将判断其为正面评价还是负面评价。\n",
    "\n",
    "如：\n",
    "输入“I don't like it, beacuse it is a boring movie. It's kind of waste my time”\n",
    "期待模型判断为负面评价(negative)。\n",
    "\n",
    "注意，只能输入英文。\n",
    "\"\"\"\n",
    "\n",
    "manual_test = True\n",
    "count = 1\n",
    "print(u\"现在开始手动测试：\\n\")\n",
    "while(manual_test):\n",
    "    \n",
    "    review = input(u\"请输入想要测试的影评（英文）：\\n\")\n",
    "\n",
    "    # 对影评文本进行分词\n",
    "    inputs = tokenizer(review, padding=True, return_tensors=\"jt\")\n",
    "    \n",
    "    # 模型预测\n",
    "    outputs = model(**inputs)\n",
    "    prediction = predict(outputs)\n",
    "\n",
    "    # 检查性能\n",
    "    print(\"\\n模型认为这是一条%s。\\n\" % (u\"负面评价\" if int(prediction)==0 else u\"正面评价\"))\n",
    "    \n",
    "    manual_test = input(u\"再试一次？ y/n\\n\")==\"y\"\n",
    "    if manual_test:\n",
    "        count = count + 1\n",
    "        print(\"--------------------------------------- %s ---------------------------------------\" % count)"
   ]
  }
 ],
 "metadata": {
  "kernelspec": {
   "display_name": "Python 3",
   "language": "python",
   "name": "python3"
  },
  "language_info": {
   "codemirror_mode": {
    "name": "ipython",
    "version": 3
   },
   "file_extension": ".py",
   "mimetype": "text/x-python",
   "name": "python",
   "nbconvert_exporter": "python",
   "pygments_lexer": "ipython3",
   "version": "3.8.8"
  }
 },
 "nbformat": 4,
 "nbformat_minor": 5
}
