{
 "cells": [
  {
   "cell_type": "markdown",
   "id": "58c5ed1f",
   "metadata": {},
   "source": [
    "# 计图 NLP 教程 - 分类问题\n",
    "本教程最后更新于 2022.4.5\n",
    "\n",
    "#### 任务描述：\n",
    "IMDb 影评分类问题。程序将根据给出的英文影评，判断其为正面评价（Positive），或是负面评价（Negative）。  \n",
    "注意：正面评价将用数字 “1” 表示，负面评价将用数字 “0” 表示。\n",
    "\n",
    "*示例：*  \n",
    "> 影评内容：  \n",
    "> Magnificent and unforgettable, stunningly atmospheric, and brilliantly acted by all. I really cannot understand what sort of people are panning this masterpiece and giving the preponderance of votes as 8 (and nine ones!) This, along with Grapes of Wrath, is John Ford's greatest movie. I would say that Long Voyage Home is next in line, though quite a way back. Rating: 10. It deserves a 12.   \n",
    "> (该条英文评论为正面评价。)  \n",
    ">  \n",
    "> 正确标签：1  \n",
    "\n",
    "\n",
    "#### 解决流程：\n",
    "本程序将按照以下几个步骤，解决目标任务:\n",
    "1. 准备工作  \n",
    "2. 数据处理 \n",
    "3. 加载模型及优化器  \n",
    "4. 训练 \n",
    "5. 测试 \n"
   ]
  },
  {
   "cell_type": "markdown",
   "id": "33851fee",
   "metadata": {},
   "source": [
    "## 1. 准备工作"
   ]
  },
  {
   "cell_type": "markdown",
   "id": "d9fbee9e",
   "metadata": {},
   "source": [
    "导入计图，以及其他通用包，并开启 GPU 加速。"
   ]
  },
  {
   "cell_type": "code",
   "execution_count": 1,
   "id": "56466434",
   "metadata": {},
   "outputs": [
    {
     "name": "stderr",
     "output_type": "stream",
     "text": [
      "\u001b[38;5;2m[i 0414 19:57:14.281034 64 compiler.py:951] Jittor(1.3.2.5) src: /home/llt/anaconda3/lib/python3.8/site-packages/jittor\u001b[m\n",
      "\u001b[38;5;2m[i 0414 19:57:14.289299 64 compiler.py:952] g++ at /usr/bin/g++(7.5.0)\u001b[m\n",
      "\u001b[38;5;2m[i 0414 19:57:14.290918 64 compiler.py:953] cache_path: /home/llt/.cache/jittor/jt1.3.2/g++7.5.0/py3.8.8/Linux-4.15.0-2xb7/IntelRXeonRCPUx00/default\u001b[m\n",
      "\u001b[38;5;2m[i 0414 19:57:14.301027 64 __init__.py:411] Found /usr/local/cuda/bin/nvcc(10.2.89) at /usr/local/cuda/bin/nvcc.\u001b[m\n",
      "\u001b[38;5;2m[i 0414 19:57:14.377323 64 __init__.py:411] Found gdb(8.1.1) at /usr/bin/gdb.\u001b[m\n",
      "\u001b[38;5;2m[i 0414 19:57:14.387228 64 __init__.py:411] Found addr2line(2.30) at /usr/bin/addr2line.\u001b[m\n",
      "\u001b[38;5;2m[i 0414 19:57:14.932564 64 compiler.py:1006] cuda key:cu10.2.89_sm_75\u001b[m\n",
      "\u001b[38;5;2m[i 0414 19:57:15.159344 64 __init__.py:227] Total mem: 62.78GB, using 16 procs for compiling.\u001b[m\n",
      "\u001b[38;5;2m[i 0414 19:57:15.346911 64 jit_compiler.cc:28] Load cc_path: /usr/bin/g++\u001b[m\n",
      "\u001b[38;5;2m[i 0414 19:57:15.791405 64 init.cc:62] Found cuda archs: [75,]\u001b[m\n",
      "\u001b[38;5;2m[i 0414 19:57:15.916883 64 __init__.py:411] Found mpicc(2.1.1) at /usr/bin/mpicc.\u001b[m\n",
      "\u001b[38;5;2m[i 0414 19:57:16.087983 64 compile_extern.py:30] found /usr/local/cuda/include/cublas.h\u001b[m\n",
      "\u001b[38;5;2m[i 0414 19:57:16.102733 64 compile_extern.py:30] found /usr/lib/x86_64-linux-gnu/libcublas.so\u001b[m\n",
      "\u001b[38;5;2m[i 0414 19:57:16.105333 64 compile_extern.py:30] found /usr/lib/x86_64-linux-gnu/libcublasLt.so.10\u001b[m\n",
      "\u001b[38;5;2m[i 0414 19:57:16.455970 64 compile_extern.py:30] found /usr/local/cuda/include/cudnn.h\u001b[m\n",
      "\u001b[38;5;2m[i 0414 19:57:16.478788 64 compile_extern.py:30] found /usr/local/cuda/lib64/libcudnn.so\u001b[m\n",
      "\u001b[38;5;2m[i 0414 19:57:17.592880 64 compile_extern.py:30] found /usr/local/cuda/include/curand.h\u001b[m\n",
      "\u001b[38;5;2m[i 0414 19:57:17.646088 64 compile_extern.py:30] found /usr/local/cuda/lib64/libcurand.so\u001b[m\n",
      "\u001b[38;5;2m[i 0414 19:57:17.682456 64 compile_extern.py:30] found /usr/local/cuda/include/cufft.h\u001b[m\n",
      "\u001b[38;5;2m[i 0414 19:57:17.740381 64 compile_extern.py:30] found /usr/local/cuda/lib64/libcufft.so\u001b[m\n",
      "\u001b[38;5;2m[i 0414 19:57:17.778960 64 cuda_flags.cc:32] CUDA enabled.\u001b[m\n",
      "Process ForkPoolWorker-3:\n",
      "Process ForkPoolWorker-13:\n",
      "Process ForkPoolWorker-2:\n",
      "Process ForkPoolWorker-10:\n",
      "Process ForkPoolWorker-11:\n",
      "Process ForkPoolWorker-9:\n",
      "Process ForkPoolWorker-12:\n",
      "Process ForkPoolWorker-1:\n",
      "Process ForkPoolWorker-15:\n",
      "Process ForkPoolWorker-14:\n",
      "Process ForkPoolWorker-8:\n",
      "Process ForkPoolWorker-7:\n",
      "Process ForkPoolWorker-6:\n",
      "Process ForkPoolWorker-16:\n",
      "Traceback (most recent call last):\n"
     ]
    }
   ],
   "source": [
    "# 加载计图，以及其他通用包\n",
    "import jittor as jt\n",
    "import time\n",
    "\n",
    "# 开启 GPU 加速\n",
    "jt.flags.use_cuda = 1"
   ]
  },
  {
   "cell_type": "markdown",
   "id": "0755ad36",
   "metadata": {},
   "source": [
    "## 2. 数据处理"
   ]
  },
  {
   "cell_type": "markdown",
   "id": "ad4a1388",
   "metadata": {},
   "source": [
    "### 2.1 下载并读取数据"
   ]
  },
  {
   "cell_type": "markdown",
   "id": "8f8e7ba7",
   "metadata": {},
   "source": [
    "首先，我们读取本地保存的 IMDb 评论的数据集。该数据集由 [Large Movie Review Dataset](https://ai.stanford.edu/~amaas/data/sentiment/)  网页提供。"
   ]
  },
  {
   "cell_type": "code",
   "execution_count": 2,
   "id": "569ca1dc",
   "metadata": {},
   "outputs": [],
   "source": [
    "import pandas as pd\n",
    "\n",
    "train_data = pd.read_csv(\"aclImdb_train.csv\", header=0, names=['Text', 'Label'])\n",
    "test_data = pd.read_csv(\"aclImdb_test.csv\", header=0, names=['Text', 'Label'])"
   ]
  },
  {
   "cell_type": "markdown",
   "id": "7fcd43e2",
   "metadata": {},
   "source": [
    "现在，让我们直观的查看一下，我们所拿到的数据集。"
   ]
  },
  {
   "cell_type": "code",
   "execution_count": 3,
   "id": "036a21a9",
   "metadata": {},
   "outputs": [
    {
     "data": {
      "text/html": [
       "<div>\n",
       "<style scoped>\n",
       "    .dataframe tbody tr th:only-of-type {\n",
       "        vertical-align: middle;\n",
       "    }\n",
       "\n",
       "    .dataframe tbody tr th {\n",
       "        vertical-align: top;\n",
       "    }\n",
       "\n",
       "    .dataframe thead th {\n",
       "        text-align: right;\n",
       "    }\n",
       "</style>\n",
       "<table border=\"1\" class=\"dataframe\">\n",
       "  <thead>\n",
       "    <tr style=\"text-align: right;\">\n",
       "      <th></th>\n",
       "      <th>Text</th>\n",
       "      <th>Label</th>\n",
       "    </tr>\n",
       "  </thead>\n",
       "  <tbody>\n",
       "    <tr>\n",
       "      <th>0</th>\n",
       "      <td>Magnificent and unforgettable, stunningly atmo...</td>\n",
       "      <td>1</td>\n",
       "    </tr>\n",
       "    <tr>\n",
       "      <th>1</th>\n",
       "      <td>I got hooked on this as apparently ABC has lic...</td>\n",
       "      <td>1</td>\n",
       "    </tr>\n",
       "    <tr>\n",
       "      <th>2</th>\n",
       "      <td>(SPOILERS IN FIRST PARAGRAPH) This movie's ant...</td>\n",
       "      <td>1</td>\n",
       "    </tr>\n",
       "    <tr>\n",
       "      <th>3</th>\n",
       "      <td>Masayuki Suo, who directed this fine film, is ...</td>\n",
       "      <td>1</td>\n",
       "    </tr>\n",
       "    <tr>\n",
       "      <th>4</th>\n",
       "      <td>It is a well known fact that when Gene Roddenb...</td>\n",
       "      <td>1</td>\n",
       "    </tr>\n",
       "    <tr>\n",
       "      <th>...</th>\n",
       "      <td>...</td>\n",
       "      <td>...</td>\n",
       "    </tr>\n",
       "    <tr>\n",
       "      <th>24995</th>\n",
       "      <td>As a big fan of David Mamet's films and plays,...</td>\n",
       "      <td>0</td>\n",
       "    </tr>\n",
       "    <tr>\n",
       "      <th>24996</th>\n",
       "      <td>There seems to be an overwhelming response to ...</td>\n",
       "      <td>0</td>\n",
       "    </tr>\n",
       "    <tr>\n",
       "      <th>24997</th>\n",
       "      <td>For the first couple of seasons, I thought The...</td>\n",
       "      <td>0</td>\n",
       "    </tr>\n",
       "    <tr>\n",
       "      <th>24998</th>\n",
       "      <td>WE FAW DOWN &lt;br /&gt;&lt;br /&gt;Aspect ratio: 1.33:1&lt;b...</td>\n",
       "      <td>0</td>\n",
       "    </tr>\n",
       "    <tr>\n",
       "      <th>24999</th>\n",
       "      <td>Although there's Flying Guillotines as part of...</td>\n",
       "      <td>0</td>\n",
       "    </tr>\n",
       "  </tbody>\n",
       "</table>\n",
       "<p>25000 rows × 2 columns</p>\n",
       "</div>"
      ],
      "text/plain": [
       "                                                    Text  Label\n",
       "0      Magnificent and unforgettable, stunningly atmo...      1\n",
       "1      I got hooked on this as apparently ABC has lic...      1\n",
       "2      (SPOILERS IN FIRST PARAGRAPH) This movie's ant...      1\n",
       "3      Masayuki Suo, who directed this fine film, is ...      1\n",
       "4      It is a well known fact that when Gene Roddenb...      1\n",
       "...                                                  ...    ...\n",
       "24995  As a big fan of David Mamet's films and plays,...      0\n",
       "24996  There seems to be an overwhelming response to ...      0\n",
       "24997  For the first couple of seasons, I thought The...      0\n",
       "24998  WE FAW DOWN <br /><br />Aspect ratio: 1.33:1<b...      0\n",
       "24999  Although there's Flying Guillotines as part of...      0\n",
       "\n",
       "[25000 rows x 2 columns]"
      ]
     },
     "execution_count": 3,
     "metadata": {},
     "output_type": "execute_result"
    }
   ],
   "source": [
    "# 展示训练集上的文本及其标签\n",
    "train_data"
   ]
  },
  {
   "cell_type": "code",
   "execution_count": 4,
   "id": "062c42be",
   "metadata": {},
   "outputs": [
    {
     "data": {
      "text/plain": [
       "0    12500\n",
       "1    12500\n",
       "Name: Label, dtype: int64"
      ]
     },
     "execution_count": 4,
     "metadata": {},
     "output_type": "execute_result"
    }
   ],
   "source": [
    "# 查看训练集上标签为 0 和 1 的数据个数\n",
    "train_data[\"Label\"].value_counts()"
   ]
  },
  {
   "cell_type": "code",
   "execution_count": 5,
   "id": "b9fd5b7f",
   "metadata": {},
   "outputs": [
    {
     "name": "stdout",
     "output_type": "stream",
     "text": [
      "文本：\n",
      "Magnificent and unforgettable, stunningly atmospheric, and brilliantly acted by all.<br /><br />I really cannot understand what sort of people are panning this masterpiece and giving the preponderance of votes as 8 (and nine ones!)<br /><br />This, along with Grapes of Wrath, is John Ford's greatest movie. I would say that Long Voyage Home is next in line, though quite a way back.<br /><br />Rating: 10. It deserves a 12.\n",
      "\n",
      "标签：1\n"
     ]
    }
   ],
   "source": [
    "# 浏览第一个数据文本\n",
    "print(u\"文本：\\n%s\\n\" % train_data[\"Text\"][0])\n",
    "print(u\"标签：%s\" % train_data[\"Label\"][0])"
   ]
  },
  {
   "cell_type": "markdown",
   "id": "ae44ea8d",
   "metadata": {},
   "source": [
    "### 2.2 令牌化（Tokenization）"
   ]
  },
  {
   "cell_type": "code",
   "execution_count": 6,
   "id": "dd2e75f2",
   "metadata": {},
   "outputs": [
    {
     "data": {
      "text/plain": [
       "1    1270\n",
       "0    1230\n",
       "Name: Label, dtype: int64"
      ]
     },
     "execution_count": 6,
     "metadata": {},
     "output_type": "execute_result"
    }
   ],
   "source": [
    "# 为缩短训练时间，只抽取部分数据做训练演示\n",
    "train_data = train_data.sample(frac=0.1)\n",
    "test_data = test_data.sample(frac=0.01)\n",
    "train_data[\"Label\"].value_counts()"
   ]
  },
  {
   "cell_type": "code",
   "execution_count": 7,
   "id": "d55a7aa6",
   "metadata": {},
   "outputs": [],
   "source": [
    "from tokenization import BertTokenizer\n",
    "\n",
    "vocab_file = \"vocab.txt\"\n",
    "tokenizer = BertTokenizer(do_lower_case=True, model_max_length=512, vocab_file=vocab_file)\n",
    "\n",
    "# 对文本进行分词\n",
    "train_encodings = tokenizer(list(train_data[\"Text\"]), padding=True)\n",
    "test_encodings = tokenizer(list(test_data[\"Text\"]), padding=True)"
   ]
  },
  {
   "cell_type": "markdown",
   "id": "f9581263",
   "metadata": {},
   "source": [
    "### 2.3 将数据存入 Dataset 对象中\n",
    "定义一个 Dataset 类，并将完成 Tokenization 后的数据文本（encodings）和数据标签（labels）封装为数据对象，以便模型使用。"
   ]
  },
  {
   "cell_type": "code",
   "execution_count": 8,
   "id": "c0bb0373",
   "metadata": {},
   "outputs": [],
   "source": [
    "class IMDbDataset(jt.dataset.Dataset):\n",
    "    def __init__(self, encodings, labels):\n",
    "        super().__init__()\n",
    "        self.encodings = encodings\n",
    "        self.labels = labels\n",
    "\n",
    "    def __getitem__(self, idx):\n",
    "        item = {key: jt.array(val[idx]) for key, val in self.encodings.items()}\n",
    "        item['labels'] = jt.array(self.labels[idx])\n",
    "        return item\n",
    "\n",
    "    def __len__(self):\n",
    "        return len(self.labels)\n",
    "    \n",
    "train_dataset = IMDbDataset(train_encodings, list(train_data[\"Label\"])).set_attrs(batch_size=16, shuffle=True)\n",
    "test_dataset = IMDbDataset(test_encodings, list(test_data[\"Label\"])).set_attrs(batch_size=1, shuffle=False)"
   ]
  },
  {
   "cell_type": "markdown",
   "id": "855902fe",
   "metadata": {},
   "source": [
    "## 3. 加载模型及优化器\n",
    "加载 BERT 模型和 AdamW 优化器。"
   ]
  },
  {
   "cell_type": "code",
   "execution_count": 9,
   "id": "9517be6b",
   "metadata": {},
   "outputs": [],
   "source": [
    "from bert_model import BertClassification, BertConfig\n",
    "from jittor.optim import AdamW\n",
    "\n",
    "# 加载 BERT 模型\n",
    "configuration = BertConfig()\n",
    "model = BertClassification(configuration)\n",
    "model.load_state_dict(jt.load(\"pretrained_bert.bin\")) # 加载预训练的参数\n",
    "\n",
    "# 加载 AdamW 优化器\n",
    "optim = AdamW(model.parameters(), lr=1e-5)"
   ]
  },
  {
   "cell_type": "markdown",
   "id": "d6db8ee7",
   "metadata": {},
   "source": [
    "## 4. 训练"
   ]
  },
  {
   "cell_type": "markdown",
   "id": "27387668",
   "metadata": {},
   "source": [
    "首先，准备一个实用方法。目标是将模型的输出转化为预测值“1” 和 “0”，与原本的数据标签所对应。"
   ]
  },
  {
   "cell_type": "code",
   "execution_count": 10,
   "id": "127bec50",
   "metadata": {},
   "outputs": [],
   "source": [
    "# 预测\n",
    "def predict(outputs):\n",
    "    probabilities = jt.nn.softmax(outputs[\"logits\"], dim=1)\n",
    "    predictions = jt.argmax(probabilities, dim=1)[0]\n",
    "    return predictions"
   ]
  },
  {
   "cell_type": "markdown",
   "id": "54b4f0ac",
   "metadata": {},
   "source": [
    "训练模型"
   ]
  },
  {
   "cell_type": "code",
   "execution_count": 11,
   "id": "43001330",
   "metadata": {
    "scrolled": true
   },
   "outputs": [
    {
     "name": "stdout",
     "output_type": "stream",
     "text": [
      "Epoch 1/3\n"
     ]
    },
    {
     "name": "stderr",
     "output_type": "stream",
     "text": [
      "157it [00:54,  2.86it/s, Loss=0.360, Accuracy=0.719]                         \n"
     ]
    },
    {
     "name": "stdout",
     "output_type": "stream",
     "text": [
      "Epoch 2/3\n"
     ]
    },
    {
     "name": "stderr",
     "output_type": "stream",
     "text": [
      "157it [00:50,  3.10it/s, Loss=0.239, Accuracy=0.866]                         \n"
     ]
    },
    {
     "name": "stdout",
     "output_type": "stream",
     "text": [
      "Epoch 3/3\n"
     ]
    },
    {
     "name": "stderr",
     "output_type": "stream",
     "text": [
      "157it [03:09,  1.21s/it, Loss=0.022, Accuracy=0.933]                         \n"
     ]
    }
   ],
   "source": [
    "# 训练代码\n",
    "from tqdm import tqdm\n",
    "\n",
    "# 设置训练周期为 3\n",
    "epoch = 3\n",
    "\n",
    "# 开启训练模式\n",
    "model.train()\n",
    "\n",
    "train_loss = list()\n",
    "train_accuracies = list()\n",
    "for epoch_i in range(epoch):\n",
    "    print('Epoch %s/%s' % (epoch_i + 1, epoch))\n",
    "    time.sleep(0.3)\n",
    "\n",
    "    correct = 0\n",
    "    count = 0\n",
    "    epoch_loss = list()\n",
    "    \n",
    "    pbar = tqdm(train_dataset, total=len(train_dataset)//train_dataset.batch_size)\n",
    "    for batch in pbar:\n",
    "        \n",
    "        optim.zero_grad()\n",
    "        input_ids = batch['input_ids']\n",
    "        attention_mask = batch['attention_mask']\n",
    "        labels = batch['labels']\n",
    "        outputs = model(input_ids, attention_mask=attention_mask, labels=labels)\n",
    "        loss = outputs['loss']\n",
    "        optim.step(loss)\n",
    "        \n",
    "        # 基于模型的输出进行预测\n",
    "        predictions = predict(outputs)\n",
    "\n",
    "        # 计算准确率 accuracy\n",
    "        correct += predictions.equal(labels.reshape(-1)).sum().item()\n",
    "        count += len(labels)\n",
    "        accuracy = correct * 1.0 / count\n",
    "\n",
    "        # 显示进度条指标\n",
    "        pbar.set_postfix({\n",
    "            'Loss': '{:.3f}'.format(loss.item()),\n",
    "            'Accuracy': '{:.3f}'.format(accuracy)\n",
    "        })\n",
    "        \n",
    "        # 记录每个批次的损失值 loss\n",
    "        epoch_loss.append(loss.item())\n",
    "        \n",
    "    pbar.close()\n",
    "    \n",
    "    # 记录每个 epoch 的 loss 和 accuracy\n",
    "    train_loss += epoch_loss\n",
    "    train_accuracies.append(accuracy)"
   ]
  },
  {
   "cell_type": "markdown",
   "id": "e22f172c",
   "metadata": {},
   "source": [
    "可视化训练损失 loss 和 准确率 accuracy"
   ]
  },
  {
   "cell_type": "code",
   "execution_count": 12,
   "id": "a34acb60",
   "metadata": {},
   "outputs": [
    {
     "data": {
      "image/png": "[encoded data removed]",
      "text/plain": [
       "<Figure size 432x288 with 1 Axes>"
      ]
     },
     "metadata": {
      "needs_background": "light"
     },
     "output_type": "display_data"
    },
    {
     "data": {
      "image/png": "[encoded data removed]",
      "text/plain": [
       "<Figure size 432x288 with 1 Axes>"
      ]
     },
     "metadata": {
      "needs_background": "light"
     },
     "output_type": "display_data"
    }
   ],
   "source": [
    "import matplotlib.pyplot as plt\n",
    "import numpy as np\n",
    "\n",
    "# 每个迭代 vs. 损失\n",
    "plt.plot(train_loss, label=\"Training Loss\")\n",
    "plt.xlabel(\"Iteration\")\n",
    "plt.ylabel(\"Loss\")\n",
    "plt.title(\"Iteration vs Training Loss\")  \n",
    "plt.legend()\n",
    "plt.show()\n",
    "\n",
    "# 每个纪元 vs. 准确率\n",
    "acc_X = np.arange(len(train_accuracies))+1      # 重置 X 轴坐标\n",
    "plt.plot(acc_X, train_accuracies,\"-\", label=\"Training Accuracy\")\n",
    "plt.xticks(acc_X)\n",
    "plt.xlabel(\"Epoch\")\n",
    "plt.ylabel(\"Accuracy\")\n",
    "plt.title(\"Epoch vs Training Accuracy\")  \n",
    "plt.legend()\n",
    "plt.show()"
   ]
  },
  {
   "cell_type": "markdown",
   "id": "35b5fc37",
   "metadata": {},
   "source": [
    "## 5. 测试"
   ]
  },
  {
   "cell_type": "code",
   "execution_count": 13,
   "id": "54b19868",
   "metadata": {},
   "outputs": [
    {
     "name": "stderr",
     "output_type": "stream",
     "text": [
      "100%|██████████| 250/250 [00:06<00:00, 37.67it/s, loss=0.027, accuracy=0.860]\n"
     ]
    },
    {
     "name": "stdout",
     "output_type": "stream",
     "text": [
      "测试集上准确率: 86.0%\n"
     ]
    }
   ],
   "source": [
    "# 测试代码\n",
    "\n",
    "# 开启测试模式\n",
    "model.eval()\n",
    "\n",
    "with jt.no_grad():  # 关闭梯度\n",
    "    \n",
    "    correct = 0\n",
    "    count = 0\n",
    "    record = {\"labels\":list(), \"predictions\":list()}\n",
    "    \n",
    "    pbar = tqdm(test_dataset, total=len(test_dataset)//test_dataset.batch_size)\n",
    "    for batch in pbar:\n",
    "\n",
    "        input_ids = batch['input_ids']\n",
    "        attention_mask = batch['attention_mask']\n",
    "        labels = batch['labels']\n",
    "        outputs = model(input_ids, attention_mask=attention_mask, labels=labels)\n",
    "        loss = outputs['loss']\n",
    "        \n",
    "        # 基于模型的输出进行预测\n",
    "        predictions = predict(outputs)\n",
    "\n",
    "        # 计算准确率 accuracy\n",
    "        correct += predictions.equal(labels.reshape(-1)).sum().item()\n",
    "        count += len(labels)\n",
    "        accuracy = correct * 1.0 / count\n",
    "\n",
    "        # 显示进度条指标\n",
    "        pbar.set_postfix({\n",
    "            'loss': '{:.3f}'.format(loss.item()),\n",
    "            'accuracy': '{:.3f}'.format(accuracy)\n",
    "        })\n",
    "    \n",
    "        # 记录结果\n",
    "        record[\"labels\"] += list(labels.reshape(-1).numpy())\n",
    "        record[\"predictions\"] += list(predictions.numpy())\n",
    "        \n",
    "    pbar.close()\n",
    "    \n",
    "time.sleep(0.3)\n",
    "print(u\"测试集上准确率: %s%%\" % round(accuracy*100,4))"
   ]
  },
  {
   "cell_type": "markdown",
   "id": "9dc65ea1",
   "metadata": {},
   "source": [
    "查看结果"
   ]
  },
  {
   "cell_type": "code",
   "execution_count": 14,
   "id": "7b41e16b",
   "metadata": {},
   "outputs": [
    {
     "data": {
      "text/html": [
       "<div>\n",
       "<style scoped>\n",
       "    .dataframe tbody tr th:only-of-type {\n",
       "        vertical-align: middle;\n",
       "    }\n",
       "\n",
       "    .dataframe tbody tr th {\n",
       "        vertical-align: top;\n",
       "    }\n",
       "\n",
       "    .dataframe thead th {\n",
       "        text-align: right;\n",
       "    }\n",
       "</style>\n",
       "<table border=\"1\" class=\"dataframe\">\n",
       "  <thead>\n",
       "    <tr style=\"text-align: right;\">\n",
       "      <th></th>\n",
       "      <th>index</th>\n",
       "      <th>Text</th>\n",
       "      <th>Label</th>\n",
       "      <th>Model Prediction</th>\n",
       "    </tr>\n",
       "  </thead>\n",
       "  <tbody>\n",
       "    <tr>\n",
       "      <th>4</th>\n",
       "      <td>924</td>\n",
       "      <td>Watching some of the sequences (err, the entir...</td>\n",
       "      <td>1</td>\n",
       "      <td>0</td>\n",
       "    </tr>\n",
       "    <tr>\n",
       "      <th>25</th>\n",
       "      <td>16478</td>\n",
       "      <td>Bruce Willis, as usual, does an excellent job....</td>\n",
       "      <td>0</td>\n",
       "      <td>1</td>\n",
       "    </tr>\n",
       "    <tr>\n",
       "      <th>28</th>\n",
       "      <td>22446</td>\n",
       "      <td>I watched this movie for the first time the ot...</td>\n",
       "      <td>0</td>\n",
       "      <td>1</td>\n",
       "    </tr>\n",
       "    <tr>\n",
       "      <th>34</th>\n",
       "      <td>14191</td>\n",
       "      <td>It's a shame, really, that the script of this ...</td>\n",
       "      <td>0</td>\n",
       "      <td>1</td>\n",
       "    </tr>\n",
       "    <tr>\n",
       "      <th>35</th>\n",
       "      <td>15243</td>\n",
       "      <td>This film should be called adventures in Cinem...</td>\n",
       "      <td>0</td>\n",
       "      <td>1</td>\n",
       "    </tr>\n",
       "    <tr>\n",
       "      <th>62</th>\n",
       "      <td>14134</td>\n",
       "      <td>Savage Steve Holland wrote and directed his se...</td>\n",
       "      <td>0</td>\n",
       "      <td>1</td>\n",
       "    </tr>\n",
       "    <tr>\n",
       "      <th>79</th>\n",
       "      <td>2843</td>\n",
       "      <td>This is not the kind of movie that really meri...</td>\n",
       "      <td>1</td>\n",
       "      <td>0</td>\n",
       "    </tr>\n",
       "    <tr>\n",
       "      <th>83</th>\n",
       "      <td>13096</td>\n",
       "      <td>** Black Dragons (1942) William Nigh ~ Bela Lu...</td>\n",
       "      <td>0</td>\n",
       "      <td>1</td>\n",
       "    </tr>\n",
       "    <tr>\n",
       "      <th>86</th>\n",
       "      <td>5419</td>\n",
       "      <td>I saw this movie in a theater while on vacatio...</td>\n",
       "      <td>1</td>\n",
       "      <td>0</td>\n",
       "    </tr>\n",
       "    <tr>\n",
       "      <th>91</th>\n",
       "      <td>15810</td>\n",
       "      <td>I had seen Rik Mayall in Blackadder and the Ne...</td>\n",
       "      <td>0</td>\n",
       "      <td>1</td>\n",
       "    </tr>\n",
       "    <tr>\n",
       "      <th>93</th>\n",
       "      <td>10996</td>\n",
       "      <td>If you've been looking for a film where a out ...</td>\n",
       "      <td>1</td>\n",
       "      <td>0</td>\n",
       "    </tr>\n",
       "    <tr>\n",
       "      <th>103</th>\n",
       "      <td>7622</td>\n",
       "      <td>Don't watch this film while, or soon after, ea...</td>\n",
       "      <td>1</td>\n",
       "      <td>0</td>\n",
       "    </tr>\n",
       "    <tr>\n",
       "      <th>104</th>\n",
       "      <td>5404</td>\n",
       "      <td>Having finally caught up with this \"masterpiec...</td>\n",
       "      <td>1</td>\n",
       "      <td>0</td>\n",
       "    </tr>\n",
       "    <tr>\n",
       "      <th>116</th>\n",
       "      <td>24892</td>\n",
       "      <td>I somehow managed to make it all the way throu...</td>\n",
       "      <td>0</td>\n",
       "      <td>1</td>\n",
       "    </tr>\n",
       "    <tr>\n",
       "      <th>118</th>\n",
       "      <td>10488</td>\n",
       "      <td>First, a word of caution. The DVD box describe...</td>\n",
       "      <td>1</td>\n",
       "      <td>0</td>\n",
       "    </tr>\n",
       "    <tr>\n",
       "      <th>124</th>\n",
       "      <td>2526</td>\n",
       "      <td>Yes, 2:37 is in some ways a rip off from Gus v...</td>\n",
       "      <td>1</td>\n",
       "      <td>0</td>\n",
       "    </tr>\n",
       "    <tr>\n",
       "      <th>128</th>\n",
       "      <td>1557</td>\n",
       "      <td>These days, you rarely come by a kid's show th...</td>\n",
       "      <td>1</td>\n",
       "      <td>0</td>\n",
       "    </tr>\n",
       "    <tr>\n",
       "      <th>130</th>\n",
       "      <td>16698</td>\n",
       "      <td>After Kenneth Opel's rousing story of the invi...</td>\n",
       "      <td>0</td>\n",
       "      <td>1</td>\n",
       "    </tr>\n",
       "    <tr>\n",
       "      <th>131</th>\n",
       "      <td>23325</td>\n",
       "      <td>Something of a disappointment. Lee J. Cobb is ...</td>\n",
       "      <td>0</td>\n",
       "      <td>1</td>\n",
       "    </tr>\n",
       "    <tr>\n",
       "      <th>134</th>\n",
       "      <td>4697</td>\n",
       "      <td>When I saw the preview for this movie, I figur...</td>\n",
       "      <td>1</td>\n",
       "      <td>0</td>\n",
       "    </tr>\n",
       "    <tr>\n",
       "      <th>139</th>\n",
       "      <td>6308</td>\n",
       "      <td>Leno talks through his punch lines. This spoil...</td>\n",
       "      <td>1</td>\n",
       "      <td>0</td>\n",
       "    </tr>\n",
       "    <tr>\n",
       "      <th>142</th>\n",
       "      <td>860</td>\n",
       "      <td>I've watched many short films in my day. Often...</td>\n",
       "      <td>1</td>\n",
       "      <td>0</td>\n",
       "    </tr>\n",
       "    <tr>\n",
       "      <th>151</th>\n",
       "      <td>10955</td>\n",
       "      <td>It infuriates me no end that, now and forever,...</td>\n",
       "      <td>1</td>\n",
       "      <td>0</td>\n",
       "    </tr>\n",
       "    <tr>\n",
       "      <th>154</th>\n",
       "      <td>4009</td>\n",
       "      <td>I've read the comments on Las Vegas and do agr...</td>\n",
       "      <td>1</td>\n",
       "      <td>0</td>\n",
       "    </tr>\n",
       "    <tr>\n",
       "      <th>160</th>\n",
       "      <td>15515</td>\n",
       "      <td>Empty shortening of John Irving's novel strive...</td>\n",
       "      <td>0</td>\n",
       "      <td>1</td>\n",
       "    </tr>\n",
       "    <tr>\n",
       "      <th>161</th>\n",
       "      <td>15428</td>\n",
       "      <td>STAR RATING: ***** Saturday Night **** Friday ...</td>\n",
       "      <td>0</td>\n",
       "      <td>1</td>\n",
       "    </tr>\n",
       "    <tr>\n",
       "      <th>174</th>\n",
       "      <td>16218</td>\n",
       "      <td>This movie is about a depressed and emotionall...</td>\n",
       "      <td>0</td>\n",
       "      <td>1</td>\n",
       "    </tr>\n",
       "    <tr>\n",
       "      <th>175</th>\n",
       "      <td>1188</td>\n",
       "      <td>For those of you unfamiliar with Alisdair Sims...</td>\n",
       "      <td>1</td>\n",
       "      <td>0</td>\n",
       "    </tr>\n",
       "    <tr>\n",
       "      <th>181</th>\n",
       "      <td>12631</td>\n",
       "      <td>Seven pioneer kids strive independently across...</td>\n",
       "      <td>0</td>\n",
       "      <td>1</td>\n",
       "    </tr>\n",
       "    <tr>\n",
       "      <th>219</th>\n",
       "      <td>20706</td>\n",
       "      <td>Well there's a few things about this movie. Ev...</td>\n",
       "      <td>0</td>\n",
       "      <td>1</td>\n",
       "    </tr>\n",
       "    <tr>\n",
       "      <th>234</th>\n",
       "      <td>15778</td>\n",
       "      <td>***SLIGHT SPOILERS*** This installment of the ...</td>\n",
       "      <td>0</td>\n",
       "      <td>1</td>\n",
       "    </tr>\n",
       "    <tr>\n",
       "      <th>241</th>\n",
       "      <td>7338</td>\n",
       "      <td>In 'Hoot' Logan Lerman plays Roy Eberhardt, th...</td>\n",
       "      <td>1</td>\n",
       "      <td>0</td>\n",
       "    </tr>\n",
       "    <tr>\n",
       "      <th>244</th>\n",
       "      <td>592</td>\n",
       "      <td>An evil land baron is holding up water to a gr...</td>\n",
       "      <td>1</td>\n",
       "      <td>0</td>\n",
       "    </tr>\n",
       "    <tr>\n",
       "      <th>245</th>\n",
       "      <td>16311</td>\n",
       "      <td>For me this movie is essentially like a featur...</td>\n",
       "      <td>0</td>\n",
       "      <td>1</td>\n",
       "    </tr>\n",
       "    <tr>\n",
       "      <th>248</th>\n",
       "      <td>18125</td>\n",
       "      <td>Pilot Mitch MacAfee (Jeff Morrow) sees a UFO w...</td>\n",
       "      <td>0</td>\n",
       "      <td>1</td>\n",
       "    </tr>\n",
       "  </tbody>\n",
       "</table>\n",
       "</div>"
      ],
      "text/plain": [
       "     index                                               Text  Label  \\\n",
       "4      924  Watching some of the sequences (err, the entir...      1   \n",
       "25   16478  Bruce Willis, as usual, does an excellent job....      0   \n",
       "28   22446  I watched this movie for the first time the ot...      0   \n",
       "34   14191  It's a shame, really, that the script of this ...      0   \n",
       "35   15243  This film should be called adventures in Cinem...      0   \n",
       "62   14134  Savage Steve Holland wrote and directed his se...      0   \n",
       "79    2843  This is not the kind of movie that really meri...      1   \n",
       "83   13096  ** Black Dragons (1942) William Nigh ~ Bela Lu...      0   \n",
       "86    5419  I saw this movie in a theater while on vacatio...      1   \n",
       "91   15810  I had seen Rik Mayall in Blackadder and the Ne...      0   \n",
       "93   10996  If you've been looking for a film where a out ...      1   \n",
       "103   7622  Don't watch this film while, or soon after, ea...      1   \n",
       "104   5404  Having finally caught up with this \"masterpiec...      1   \n",
       "116  24892  I somehow managed to make it all the way throu...      0   \n",
       "118  10488  First, a word of caution. The DVD box describe...      1   \n",
       "124   2526  Yes, 2:37 is in some ways a rip off from Gus v...      1   \n",
       "128   1557  These days, you rarely come by a kid's show th...      1   \n",
       "130  16698  After Kenneth Opel's rousing story of the invi...      0   \n",
       "131  23325  Something of a disappointment. Lee J. Cobb is ...      0   \n",
       "134   4697  When I saw the preview for this movie, I figur...      1   \n",
       "139   6308  Leno talks through his punch lines. This spoil...      1   \n",
       "142    860  I've watched many short films in my day. Often...      1   \n",
       "151  10955  It infuriates me no end that, now and forever,...      1   \n",
       "154   4009  I've read the comments on Las Vegas and do agr...      1   \n",
       "160  15515  Empty shortening of John Irving's novel strive...      0   \n",
       "161  15428  STAR RATING: ***** Saturday Night **** Friday ...      0   \n",
       "174  16218  This movie is about a depressed and emotionall...      0   \n",
       "175   1188  For those of you unfamiliar with Alisdair Sims...      1   \n",
       "181  12631  Seven pioneer kids strive independently across...      0   \n",
       "219  20706  Well there's a few things about this movie. Ev...      0   \n",
       "234  15778  ***SLIGHT SPOILERS*** This installment of the ...      0   \n",
       "241   7338  In 'Hoot' Logan Lerman plays Roy Eberhardt, th...      1   \n",
       "244    592  An evil land baron is holding up water to a gr...      1   \n",
       "245  16311  For me this movie is essentially like a featur...      0   \n",
       "248  18125  Pilot Mitch MacAfee (Jeff Morrow) sees a UFO w...      0   \n",
       "\n",
       "     Model Prediction  \n",
       "4                   0  \n",
       "25                  1  \n",
       "28                  1  \n",
       "34                  1  \n",
       "35                  1  \n",
       "62                  1  \n",
       "79                  0  \n",
       "83                  1  \n",
       "86                  0  \n",
       "91                  1  \n",
       "93                  0  \n",
       "103                 0  \n",
       "104                 0  \n",
       "116                 1  \n",
       "118                 0  \n",
       "124                 0  \n",
       "128                 0  \n",
       "130                 1  \n",
       "131                 1  \n",
       "134                 0  \n",
       "139                 0  \n",
       "142                 0  \n",
       "151                 0  \n",
       "154                 0  \n",
       "160                 1  \n",
       "161                 1  \n",
       "174                 1  \n",
       "175                 0  \n",
       "181                 1  \n",
       "219                 1  \n",
       "234                 1  \n",
       "241                 0  \n",
       "244                 0  \n",
       "245                 1  \n",
       "248                 1  "
      ]
     },
     "execution_count": 14,
     "metadata": {},
     "output_type": "execute_result"
    }
   ],
   "source": [
    "# 将测试结果转化为 pandas DataFrame 对象\n",
    "from pandas.core.frame import DataFrame\n",
    "df_record = DataFrame(record)\n",
    "df_record.columns = [\"Ground Truth\",\"Model Prediction\"]\n",
    "\n",
    "# 拼接测试文本和测试结果\n",
    "df = pd.concat([test_data.reset_index(), df_record[\"Model Prediction\"]], axis=1)\n",
    "\n",
    "# 显示测试结果\n",
    "# pd.set_option('display.max_rows', None)    # 查看所有行\n",
    "# df\n",
    "\n",
    "# 只显示错误的预测 \n",
    "df[df[\"Label\"]!=df[\"Model Prediction\"]]"
   ]
  },
  {
   "cell_type": "markdown",
   "id": "f185b083",
   "metadata": {},
   "source": [
    "显示测试结果的混淆矩阵"
   ]
  },
  {
   "cell_type": "code",
   "execution_count": 15,
   "id": "c52fbe1c",
   "metadata": {},
   "outputs": [
    {
     "data": {
      "image/png": "[encoded data removed]",
      "text/plain": [
       "<Figure size 432x288 with 2 Axes>"
      ]
     },
     "metadata": {
      "needs_background": "light"
     },
     "output_type": "display_data"
    }
   ],
   "source": [
    "# 显示测试结果的混淆矩阵\n",
    "import seaborn as sns\n",
    "crosstab = pd.crosstab(df_record[\"Ground Truth\"],df_record[\"Model Prediction\"])\n",
    "sns.heatmap(crosstab, cmap='Oranges', annot=True, fmt='g', linewidths=5)\n",
    "accuracy = df_record[\"Ground Truth\"].eq(df_record[\"Model Prediction\"]).sum() / len(df_record[\"Ground Truth\"])\n",
    "plt.title(\"Confusion Matrix (Accuracy: %s%%)\" % round(accuracy*100,2))\n",
    "plt.show()"
   ]
  },
  {
   "cell_type": "code",
   "execution_count": 16,
   "id": "773a79af",
   "metadata": {},
   "outputs": [
    {
     "name": "stdout",
     "output_type": "stream",
     "text": [
      "现在开始手动测试：\n",
      "\n",
      "请输入想要测试的影评（英文）：\n",
      "I don't like it, beacuse it is a boring movie. It's kind of waste my time\n",
      "\n",
      "模型认为这是一条负面评价。\n",
      "\n",
      "再试一次？ y/n\n",
      "n\n"
     ]
    }
   ],
   "source": [
    "\"\"\"\n",
    "- 手动测试 -\n",
    "\n",
    "以下代码将用于手动测试。\n",
    "可自定义输入评论，模型将判断其为正面评价还是负面评价。\n",
    "\n",
    "如：\n",
    "输入“I don't like it, beacuse it is a boring movie. It's kind of waste my time”\n",
    "期待模型判断为负面评价(negative)。\n",
    "\n",
    "注意，只能输入英文。\n",
    "\"\"\"\n",
    "\n",
    "manual_test = True\n",
    "count = 1\n",
    "print(u\"现在开始手动测试：\\n\")\n",
    "while(manual_test):\n",
    "    \n",
    "    review = input(u\"请输入想要测试的影评（英文）：\\n\")\n",
    "\n",
    "    # 对影评文本进行分词\n",
    "    inputs = tokenizer(review, padding=True, return_tensors=\"jt\")\n",
    "    \n",
    "    # 模型预测\n",
    "    outputs = model(**inputs)\n",
    "    prediction = predict(outputs)\n",
    "\n",
    "    # 检查性能\n",
    "    print(\"\\n模型认为这是一条%s。\\n\" % (u\"负面评价\" if int(prediction)==0 else u\"正面评价\"))\n",
    "    \n",
    "    manual_test = input(u\"再试一次？ y/n\\n\")==\"y\"\n",
    "    if manual_test:\n",
    "        count = count + 1\n",
    "        print(\"--------------------------------------- %s ---------------------------------------\" % count)"
   ]
  }
 ],
 "metadata": {
  "kernelspec": {
   "display_name": "Python 3",
   "language": "python",
   "name": "python3"
  },
  "language_info": {
   "codemirror_mode": {
    "name": "ipython",
    "version": 3
   },
   "file_extension": ".py",
   "mimetype": "text/x-python",
   "name": "python",
   "nbconvert_exporter": "python",
   "pygments_lexer": "ipython3",
   "version": "3.8.8"
  }
 },
 "nbformat": 4,
 "nbformat_minor": 5
}
